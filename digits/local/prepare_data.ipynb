{
 "cells": [
  {
   "cell_type": "code",
   "execution_count": 1,
   "metadata": {},
   "outputs": [],
   "source": [
    "from pathlib import Path\n",
    "\n",
    "import numpy as np\n",
    "import pandas as pd"
   ]
  },
  {
   "cell_type": "code",
   "execution_count": 2,
   "metadata": {},
   "outputs": [],
   "source": [
    "audio_dir = Path(\"recordings/\")\n",
    "digit_2_text = {\n",
    "    \"0\": \"ZERO\",\n",
    "    \"1\": \"ONE\",\n",
    "    \"2\": \"TWO\",\n",
    "    \"3\": \"THREE\"\n",
    "    \"4\": \"FOUR\",\n",
    "    \"5\": \"FIVE\",\n",
    "    \"6\": \"SIX\",\n",
    "    \"7\": \"SEVEN\",\n",
    "    \"8\": \"EIGHT\",\n",
    "    \"9\": \"NINE\",\n",
    "}"
   ]
  },
  {
   "cell_type": "code",
   "execution_count": 3,
   "metadata": {},
   "outputs": [],
   "source": [
    "df = pd.DataFrame(data={\"path\": audio_dir.iterdir()})\n",
    "df[\"label\"] = df[\"path\"].apply(lambda x: str(x.stem).split(\"_\")[0])\n",
    "df[\"speaker\"] = df[\"path\"].apply(lambda x: str(x.stem).split(\"_\")[1])\n",
    "\n",
    "# Deal w/ sorting problems in kaldi\n",
    "def make_utter_id(p):\n",
    "    names = p.stem.split(\"_\")\n",
    "    return \"-\".join([names[1], names[0], names[2]])\n",
    "df[\"utter_id\"] = df[\"path\"].apply(make_utter_id)\n",
    "df[\"subset\"] = None"
   ]
  },
  {
   "cell_type": "code",
   "execution_count": 4,
   "metadata": {},
   "outputs": [],
   "source": [
    "test_ratio = 0.2\n",
    "for label, speaker in df.groupby([\"label\", \"speaker\"]).groups.keys():\n",
    "    num_total = len(df.loc[(df[\"label\"] == label) & (df[\"speaker\"] == speaker)])\n",
    "    num_test = int(num_total * 0.2)\n",
    "    num_train = num_total - num_test\n",
    "    \n",
    "    subset_tags = [\"train\"] * num_train + [\"test\"] * num_test\n",
    "    np.random.shuffle(subset_tags)\n",
    "    df.loc[(df[\"label\"] == label) & (df[\"speaker\"] == speaker), \"subset\"] = subset_tags"
   ]
  },
  {
   "cell_type": "code",
   "execution_count": 5,
   "metadata": {},
   "outputs": [],
   "source": [
    "train_df = df[df[\"subset\"] == \"train\"]\n",
    "test_df = df[df[\"subset\"] == \"test\"]"
   ]
  },
  {
   "cell_type": "code",
   "execution_count": 6,
   "metadata": {},
   "outputs": [
    {
     "data": {
      "text/html": [
       "<div>\n",
       "<style scoped>\n",
       "    .dataframe tbody tr th:only-of-type {\n",
       "        vertical-align: middle;\n",
       "    }\n",
       "\n",
       "    .dataframe tbody tr th {\n",
       "        vertical-align: top;\n",
       "    }\n",
       "\n",
       "    .dataframe thead th {\n",
       "        text-align: right;\n",
       "    }\n",
       "</style>\n",
       "<table border=\"1\" class=\"dataframe\">\n",
       "  <thead>\n",
       "    <tr style=\"text-align: right;\">\n",
       "      <th></th>\n",
       "      <th>path</th>\n",
       "      <th>label</th>\n",
       "      <th>speaker</th>\n",
       "      <th>utter_id</th>\n",
       "      <th>subset</th>\n",
       "    </tr>\n",
       "  </thead>\n",
       "  <tbody>\n",
       "    <tr>\n",
       "      <th>0</th>\n",
       "      <td>recordings/0_jackson_0.wav</td>\n",
       "      <td>0</td>\n",
       "      <td>jackson</td>\n",
       "      <td>jackson-0-0</td>\n",
       "      <td>train</td>\n",
       "    </tr>\n",
       "    <tr>\n",
       "      <th>2</th>\n",
       "      <td>recordings/0_jackson_10.wav</td>\n",
       "      <td>0</td>\n",
       "      <td>jackson</td>\n",
       "      <td>jackson-0-10</td>\n",
       "      <td>train</td>\n",
       "    </tr>\n",
       "    <tr>\n",
       "      <th>3</th>\n",
       "      <td>recordings/0_jackson_11.wav</td>\n",
       "      <td>0</td>\n",
       "      <td>jackson</td>\n",
       "      <td>jackson-0-11</td>\n",
       "      <td>train</td>\n",
       "    </tr>\n",
       "    <tr>\n",
       "      <th>4</th>\n",
       "      <td>recordings/0_jackson_12.wav</td>\n",
       "      <td>0</td>\n",
       "      <td>jackson</td>\n",
       "      <td>jackson-0-12</td>\n",
       "      <td>train</td>\n",
       "    </tr>\n",
       "    <tr>\n",
       "      <th>5</th>\n",
       "      <td>recordings/0_jackson_13.wav</td>\n",
       "      <td>0</td>\n",
       "      <td>jackson</td>\n",
       "      <td>jackson-0-13</td>\n",
       "      <td>train</td>\n",
       "    </tr>\n",
       "  </tbody>\n",
       "</table>\n",
       "</div>"
      ],
      "text/plain": [
       "                          path label  speaker      utter_id subset\n",
       "0   recordings/0_jackson_0.wav     0  jackson   jackson-0-0  train\n",
       "2  recordings/0_jackson_10.wav     0  jackson  jackson-0-10  train\n",
       "3  recordings/0_jackson_11.wav     0  jackson  jackson-0-11  train\n",
       "4  recordings/0_jackson_12.wav     0  jackson  jackson-0-12  train\n",
       "5  recordings/0_jackson_13.wav     0  jackson  jackson-0-13  train"
      ]
     },
     "execution_count": 6,
     "metadata": {},
     "output_type": "execute_result"
    }
   ],
   "source": [
    "train_df.head()"
   ]
  },
  {
   "cell_type": "code",
   "execution_count": 7,
   "metadata": {},
   "outputs": [],
   "source": [
    "audio_df = train_df"
   ]
  },
  {
   "cell_type": "code",
   "execution_count": 8,
   "metadata": {},
   "outputs": [],
   "source": [
    "# Create \"text\" (utterance id + transcript)\n",
    "text_df = pd.DataFrame(data={\"0\": audio_df[\"utter_id\"],\n",
    "                             \"1\": [digit_2_text[label] for label in audio_df[\"label\"]]})\n",
    "                                   \n",
    "text_df.to_csv(\"data/train/text\", sep=\" \", index=False, header=False)"
   ]
  },
  {
   "cell_type": "code",
   "execution_count": 9,
   "metadata": {},
   "outputs": [],
   "source": [
    "# Create \"wav.scp\" (utterance id + audio path)\n",
    "wav_scp_df = pd.DataFrame(data={\"0\": audio_df[\"utter_id\"],\n",
    "                                \"1\": audio_df[\"path\"]})\n",
    "wav_scp_df.to_csv(\"data/train/wav.scp\", sep=\" \", index=False, header=False)"
   ]
  },
  {
   "cell_type": "code",
   "execution_count": 10,
   "metadata": {},
   "outputs": [],
   "source": [
    "# Create \"utt2spk\" (utterance id + speaker id)\n",
    "utt2spk_df = pd.DataFrame(data={\"0\": audio_df[\"utter_id\"],\n",
    "                                \"1\": audio_df[\"speaker\"]})\n",
    "utt2spk_df.to_csv(\"data/train/utt2spk\", sep=\" \", index=False, header=False)"
   ]
  },
  {
   "cell_type": "code",
   "execution_count": 35,
   "metadata": {},
   "outputs": [],
   "source": [
    "present_words = set()\n",
    "with open(\"data/train/text\") as f:\n",
    "    for line in f.readlines():\n",
    "        _, transcript = line.strip().split(\" \", 1)\n",
    "        present_words.update(transcript.split(\" \"))\n",
    "\n",
    "with open(\"full_lexicon.txt\", encoding=\"ISO-8859-1\") as f, \\\n",
    "        open(\"data/local/lang/lexicon.txt\", \"w\") as target_file:\n",
    "    for line in f.readlines():\n",
    "        word, pronun = line.strip().split(\" \", 1)\n",
    "        if word in present_words:\n",
    "            target_file.write(f\"{word}{pronun}\\n\")"
   ]
  },
  {
   "cell_type": "code",
   "execution_count": 28,
   "metadata": {},
   "outputs": [
    {
     "data": {
      "text/plain": [
       "{'EIGHT',\n",
       " 'FIVE',\n",
       " 'FOUR',\n",
       " 'NINE',\n",
       " 'ONE',\n",
       " 'SEVEN',\n",
       " 'SIX',\n",
       " 'THREE',\n",
       " 'TWO',\n",
       " 'ZERO'}"
      ]
     },
     "execution_count": 28,
     "metadata": {},
     "output_type": "execute_result"
    }
   ],
   "source": [
    "present_words"
   ]
  },
  {
   "cell_type": "code",
   "execution_count": null,
   "metadata": {},
   "outputs": [],
   "source": []
  }
 ],
 "metadata": {
  "kernelspec": {
   "display_name": "Python [conda env:speech-recognition]",
   "language": "python",
   "name": "conda-env-speech-recognition-py"
  },
  "language_info": {
   "codemirror_mode": {
    "name": "ipython",
    "version": 3
   },
   "file_extension": ".py",
   "mimetype": "text/x-python",
   "name": "python",
   "nbconvert_exporter": "python",
   "pygments_lexer": "ipython3",
   "version": "3.7.7"
  }
 },
 "nbformat": 4,
 "nbformat_minor": 4
}
